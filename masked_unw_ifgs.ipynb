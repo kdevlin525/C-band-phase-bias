{
 "cells": [
  {
   "cell_type": "markdown",
   "metadata": {},
   "source": [
    "This notebook creates masked unwrapped interferograms."
   ]
  },
  {
   "cell_type": "code",
   "execution_count": 1,
   "metadata": {},
   "outputs": [],
   "source": [
    "import os, glob\n",
    "import shutil\n",
    "import math\n",
    "from osgeo import gdal\n",
    "import h5py\n",
    "import numpy as np\n",
    "import matplotlib.pyplot as plt\n",
    "import matplotlib.path as pth"
   ]
  },
  {
   "cell_type": "code",
   "execution_count": 2,
   "metadata": {},
   "outputs": [],
   "source": [
    "datadir = 'path/to/your/dir'\n",
    "driver=gdal.GetDriverByName('ISCE')\n",
    "\n",
    "# size of entire SLC\n",
    "az0 = 0\n",
    "daz= 3500\n",
    "rg0 = 0\n",
    "drg = 30000\n",
    "\n",
    "# number of looks\n",
    "alks= 7\n",
    "rlks = 19\n",
    "\n",
    "# dates of SLCs\n",
    "dates = [os.path.basename(x) for x in glob.glob(f'{datadir}/SLC_vv/2*')]\n",
    "dates = sorted(dates)\n",
    "nd = len(dates)"
   ]
  },
  {
   "cell_type": "code",
   "execution_count": 3,
   "metadata": {},
   "outputs": [],
   "source": [
    "# read in road array for masking\n",
    "ds = gdal.Open(f'{datadir}/cropscape/arrays/Sentinel/roadarray.r4', gdal.GA_ReadOnly)\n",
    "roadarray = ds.ReadAsArray()\n",
    "roadarray[roadarray==0] = np.nan"
   ]
  },
  {
   "cell_type": "code",
   "execution_count": 4,
   "metadata": {},
   "outputs": [],
   "source": [
    "# function for downlooking with NaNs\n",
    "def boxcar_nan(image, size) -> np.ndarray:\n",
    "    \"\"\"Calculate the downsampled image with window \"size\", ignoring nans.\n",
    "\n",
    "    Parameters\n",
    "    ----------\n",
    "    image : ndarray\n",
    "        input image, 1 band, can be real or complex.\n",
    "    size : int or tuple of int\n",
    "        Window size. If a single int, the window is square.\n",
    "        If a tuple of (row_size, col_size), the window can be rectangular.\n",
    "\n",
    "    Returns\n",
    "    -------\n",
    "    ndarray\n",
    "        image downlooked by size, simple average over the \"size\" window, ignoring nans.  \n",
    "    \"\"\"\n",
    "    if isinstance(size, int):\n",
    "        size = (size, size)\n",
    "    if len(size) != 2:\n",
    "        raise ValueError(\"size must be a single int or a tuple of 2 ints\")\n",
    "  \n",
    "    row_size, col_size = size\n",
    " \n",
    "    im_row_size, im_col_size = np.shape(image)\n",
    "    rows=np.arange(0,im_row_size,row_size)\n",
    "    cols=np.arange(0,im_col_size,col_size)[:-1]\n",
    "    dt = image.dtype\n",
    "  \n",
    "    small = np.zeros([len(rows),len(cols)],dtype=dt)\n",
    "\n",
    "    for i in range(len(rows)):\n",
    "        for j in range(len(cols)):\n",
    "            thumb=image[rows[i]:rows[i]+row_size,cols[j]:cols[j]+col_size]\n",
    "            small[i,j] = np.nanmean(thumb)\n",
    "\n",
    "    return small"
   ]
  },
  {
   "cell_type": "code",
   "execution_count": null,
   "metadata": {},
   "outputs": [],
   "source": [
    "# downlook road array\n",
    "roadarray_dl = boxcar_nan(roadarray,(alks,rlks))"
   ]
  },
  {
   "cell_type": "code",
   "execution_count": null,
   "metadata": {},
   "outputs": [],
   "source": [
    "# creates masked unwrapped ifgs\n",
    "slc1 = np.ndarray([daz,drg],'complex')\n",
    "slc2 = np.ndarray([daz,drg],'complex')\n",
    "\n",
    "for k in np.arange(nd-1): \n",
    "    # create downlooked, filtered, unwrapped ifgs\n",
    "    ds1 = gdal.Open(f'{datadir}/SLC_vv/{dates[k]}/{dates[k]}.slc.full', gdal.GA_ReadOnly)\n",
    "    ds2 = gdal.Open(f'{datadir}/SLC_vv/{dates[k+1]}/{dates[k+1]}.slc.full', gdal.GA_ReadOnly)\n",
    "    slc1[:,:] = ds1.GetRasterBand(1).ReadAsArray(rg0,az0,drg,daz)\n",
    "    slc2[:,:] = ds2.GetRasterBand(1).ReadAsArray(rg0,az0,drg,daz)\n",
    "    # mask to only include road pixels\n",
    "    slc1_road_mask = slc1*roadarray\n",
    "    slc2_road_mask = slc2*roadarray\n",
    "    ifg_road_mask = slc1_road_mask*np.conj(slc2_road_mask)\n",
    "    # downlook with our function to account for nans\n",
    "    ifg_road_mask_dl = boxcar_nan(ifg_road_mask, (alks,rlks))\n",
    "    # read in unw ifg file\n",
    "    ds = gdal.Open(f'{datadir}/unw_ifgs/{dates[k]}_{dates[k+1]}/{dates[k]}_{dates[k+1]}.unw', gdal.GA_ReadOnly)\n",
    "    unw_ifg = ds.GetRasterBand(2).ReadAsArray()\n",
    "    # get mod 2pi ifg\n",
    "    mod_ifg = np.mod(unw_ifg-np.pi,2*np.pi)-np.pi\n",
    "    # get unwrappped masked ifg\n",
    "    unw_road_mask = np.angle(np.exp(1j*mod_ifg)*np.conj(ifg_road_mask_dl))+unw_ifg\n",
    "    unw_road_mask = np.nan_to_num(unw_road_mask)\n",
    "    # write to file\n",
    "    print('write to file')\n",
    "    if not os.path.isdir(f'{datadir}/realtimeseries/unw_ifgs/masked/{dates[k]}_{dates[k+1]}'):\n",
    "        os.mkdir(f'{datadir}/realtimeseries/unw_ifgs/masked/{dates[k]}_{dates[k+1]}')\n",
    "    colds = driver.Create(f'{datadir}/realtimeseries/unw_ifgs/masked/{dates[k]}_{dates[k+1]}/{dates[k]}_{dates[k+1]}_road_mask.unw',np.shape(unw_road_mask)[1],np.shape(unw_road_mask)[0],1,gdal.GDT_Float32)\n",
    "    colds.GetRasterBand(1).WriteArray(unw_road_mask)\n",
    "    colds=None\n",
    "    # create vrt file\n",
    "    print('create vrt')\n",
    "    cmd = f'fixImageXml.py -i {datadir}/realtimeseries/unw_ifgs/masked/{dates[k]}_{dates[k+1]}/{dates[k]}_{dates[k+1]}_road_mask.unw -f'\n",
    "    os.system(cmd)\n",
    "    print(f'{k} done')"
   ]
  }
 ],
 "metadata": {
  "kernelspec": {
   "display_name": "earthscope_insar",
   "language": "python",
   "name": "python3"
  },
  "language_info": {
   "codemirror_mode": {
    "name": "ipython",
    "version": 3
   },
   "file_extension": ".py",
   "mimetype": "text/x-python",
   "name": "python",
   "nbconvert_exporter": "python",
   "pygments_lexer": "ipython3",
   "version": "3.11.6"
  }
 },
 "nbformat": 4,
 "nbformat_minor": 2
}
