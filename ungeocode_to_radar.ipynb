{
 "cells": [
  {
   "cell_type": "markdown",
   "id": "7a6e1fbf",
   "metadata": {},
   "source": [
    "This is an example of \"ungeocoding\" a geotiff to radar coordinates. It is based on how ISCE2 geocodes radar files. This assumes you want to resample to full resolution, but this can also be done to downlooked coordinates."
   ]
  },
  {
   "cell_type": "markdown",
   "id": "e1baa781",
   "metadata": {},
   "source": [
    "---"
   ]
  },
  {
   "cell_type": "code",
   "execution_count": null,
   "metadata": {},
   "outputs": [],
   "source": [
    "import argparse\n",
    "import isce\n",
    "#import isceobj\n",
    "import os\n",
    "import shutil\n",
    "from osgeo import gdal\n",
    "from osgeo import gdal_array\n",
    "import numpy as np\n",
    "import pandas as pd\n",
    "import xml.etree.ElementTree as ET\n",
    "#import rasterio\n",
    "#from rasterio.plot import show\n",
    "import glob\n",
    "#import matplotlib\n",
    "#matplotlib.use('Agg')\n",
    "#import matplotlib.pyplot as plt"
   ]
  },
  {
   "cell_type": "code",
   "execution_count": null,
   "metadata": {},
   "outputs": [],
   "source": [
    "# Following files need to be the same size as your output grid.\n",
    "# lat and lon rdr files in geom_reference dir from stack processor\n",
    "# this is for full res, change if you want downlooked\n",
    "latfile  = 'geom_reference/lat.rdr.full.vrt'\n",
    "lonfile  = 'geom_reference/lon.rdr.full.vrt'"
   ]
  },
  {
   "cell_type": "code",
   "execution_count": null,
   "metadata": {},
   "outputs": [],
   "source": [
    "# setup paths and get input files\n",
    "resampMethod = 'near'\n",
    "workdir      = 'workdir' # path to your working dir\n",
    "origdir      = f'{workdir}/original' # path to your original tiff dir\n",
    "##os.mkdir(original) # needs to exist and be empty\n",
    "radardir = f'{workdir}/radar' # where your radar coord files will go\n",
    "#os.mkdir(cropradardir) # needs to exist and be empty\n",
    "infiles      = glob.glob(f'{origdir}/*.tif')\n",
    "infiles      = sorted(infiles)\n",
    "infile       = infiles[0] # file for getting bounds, data type.  For all Landsat 8 tiffs\n",
    "os.chdir(workdir) # change to cropscape dir"
   ]
  },
  {
   "cell_type": "code",
   "execution_count": null,
   "metadata": {},
   "outputs": [],
   "source": [
    "def writeVRT(infile, latFile, lonFile):\n",
    "#This function is modified from isce2gis.py\n",
    "            tree = ET.parse(infile + '.vrt')\n",
    "            root = tree.getroot()\n",
    "\n",
    "            meta = ET.SubElement(root, 'metadata')\n",
    "            meta.attrib['domain'] = \"GEOLOCATION\"\n",
    "            meta.tail = '\\n'\n",
    "            meta.text = '\\n    '\n",
    "\n",
    "\n",
    "            rdict = { 'Y_DATASET' : latFile,\n",
    "                      'X_DATASET' : lonFile,\n",
    "                      'X_BAND' : \"1\",\n",
    "                      'Y_BAND' : \"1\",\n",
    "                      'PIXEL_OFFSET': \"0\",\n",
    "                      'LINE_OFFSET' : \"0\",\n",
    "                      'LINE_STEP' : \"1\",\n",
    "                      'PIXEL_STEP' : \"1\" }\n",
    "\n",
    "            for key, val in rdict.items():\n",
    "                data = ET.SubElement(meta, 'mdi')\n",
    "                data.text = val\n",
    "                data.attrib['key'] = key\n",
    "                data.tail = '\\n    '\n",
    "\n",
    "            data.tail = '\\n'\n",
    "            tree.write(infile + '.vrt')"
   ]
  },
  {
   "cell_type": "code",
   "execution_count": null,
   "metadata": {},
   "outputs": [],
   "source": [
    "###figure out bounds of lat/lonfile and crop input file\n",
    "lf = gdal.Open(latfile)\n",
    "stats = lf.GetRasterBand(1).GetStatistics(0,1)\n",
    "sarMinLat = stats[0]\n",
    "sarMaxLat = stats[1]\n",
    "lf=None\n",
    "\n",
    "###figure out bounds of lat/lonfile and crop input file\n",
    "lf = gdal.Open(lonfile)\n",
    "stats = lf.GetRasterBand(1).GetStatistics(0,1)\n",
    "sarMinLon = stats[0]\n",
    "sarMaxLon = stats[1]\n",
    "lf=None\n",
    "\n",
    "###get pixel spacing on infile\n",
    "lf    = gdal.Open(infile)\n",
    "stats = lf.GetGeoTransform()\n",
    "dLon  = stats[1]\n",
    "dLat  = -stats[5]\n",
    "band = lf.GetRasterBand(1)\n",
    "arr = band.ReadAsArray()\n",
    "dtype = gdal.GetDataTypeName(band.DataType)\n",
    "print(dtype)\n",
    "#plt.imshow(arr)\n",
    "#plt.show()\n",
    "lf   = None\n"
   ]
  },
  {
   "cell_type": "code",
   "execution_count": null,
   "metadata": {},
   "outputs": [],
   "source": [
    "##get number of rows and columns in radar coords file (lat)\n",
    "raster = gdal.Open(latfile)\n",
    "radarnx=raster.RasterXSize\n",
    "radarny=raster.RasterYSize\n",
    "cols,rows=np.meshgrid(np.arange(1,radarnx+1),np.arange(radarny,0,-1))\n",
    "\n",
    "#make new files of columns and rows, in radar coordinates\n",
    "colfile = 'colsfr.r4'\n",
    "rowfile = 'rowsfr.r4'\n",
    "gcolfile = 'geo_colsfr.r4'\n",
    "growfile = 'geo_rowsfr.r4'\n",
    "driver=gdal.GetDriverByName('ISCE')\n"
   ]
  },
  {
   "cell_type": "code",
   "execution_count": null,
   "id": "421f4eb3",
   "metadata": {},
   "outputs": [],
   "source": [
    "colds = driver.Create(colfile,radarnx,radarny,1,gdal.GDT_Float32)\n",
    "colds.GetRasterBand(1).WriteArray(cols)\n",
    "colds=None\n",
    "\n",
    "colds = driver.Create(rowfile,radarnx,radarny,1,gdal.GDT_Float32)\n",
    "colds.GetRasterBand(1).WriteArray(rows)\n",
    "colds=None\n",
    "\n",
    "cmd = 'fixImageXml.py -i '+colfile+' -f'\n",
    "os.system(cmd)\n",
    "cmd = 'fixImageXml.py -i '+rowfile+' -f'\n",
    "os.system(cmd)\n",
    "\n",
    "writeVRT(colfile, latfile, lonfile)\n",
    "writeVRT(rowfile, latfile, lonfile)"
   ]
  },
  {
   "cell_type": "code",
   "execution_count": null,
   "metadata": {},
   "outputs": [],
   "source": [
    "##get number of rows and columns + min/max range of input file\n",
    "raster = gdal.Open(infile)\n",
    "geonx=raster.RasterXSize\n",
    "geony=raster.RasterYSize\n",
    "\n",
    "minLon = raster.GetGeoTransform()[0]\n",
    "deltaLon = raster.GetGeoTransform()[1]\n",
    "maxLat = raster.GetGeoTransform()[3]\n",
    "deltaLat = raster.GetGeoTransform()[5]\n",
    "minLat = maxLat + geony*deltaLat\n",
    "maxLon = minLon + geonx*deltaLon\n",
    "WSEN = str(minLon)+' '+str(minLat)+' '+str(maxLon)+' '+str(maxLat)\n"
   ]
  },
  {
   "cell_type": "code",
   "execution_count": null,
   "metadata": {},
   "outputs": [],
   "source": [
    "#geocode row and col file\n",
    "cmd = 'gdalwarp -of ISCE -geoloc  -te '+WSEN+' -tr '+str(deltaLon)+' '+str(deltaLat)+' -srcnodata 0 -dstnodata 0  -wt float32 -r bilinear ' +rowfile +'.vrt ' + growfile\n",
    "print(cmd)\n",
    "os.system(cmd)\n",
    "cmd = 'gdalwarp -of ISCE -geoloc  -te '+WSEN+' -tr '+str(deltaLon)+' '+str(deltaLat)+' -srcnodata 0 -dstnodata 0  -wt float32 -r bilinear ' +colfile +'.vrt ' + gcolfile\n",
    "print(cmd)\n",
    "os.system(cmd)\n",
    "cmd = 'gdalbuildvrt '+gcolfile+'.vrt '+gcolfile\n",
    "os.system(cmd)\n",
    "cmd = 'gdalbuildvrt '+growfile+'.vrt '+growfile\n",
    "os.system(cmd)"
   ]
  },
  {
   "cell_type": "code",
   "execution_count": null,
   "metadata": {},
   "outputs": [],
   "source": [
    "###set any geocoding info\n",
    "WSEN = '0.5 0.5 '+str(radarnx+0.5)+' '+str(radarny+0.5)\n",
    "for file in infiles:\n",
    "    outfile  = f'{radardir}/{os.path.basename(file)}'\n",
    "    writeVRT(file, growfile, gcolfile)\n",
    "    cmd = 'gdalwarp -geoloc -of ISCE -te '+ WSEN + ' -tr 1 1 -srcnodata 0 -dstnodata 0 -wt '+dtype+' -r ' + resampMethod + ' ' + file +'.vrt ' +outfile\n",
    "    os.system(cmd)\n",
    "    cmd = 'gdalbuildvrt '+outfile+'.vrt '+outfile\n",
    "    os.system(cmd)\n",
    "    os.rename(outfile,f'{radardir}/{file[50:58]}.tif')\n",
    "    os.rename(f'{outfile}.vrt',f'{radardir}/{file[50:58]}.tif.vrt')\n",
    "    os.rename(f'{outfile}.xml',f'{radardir}/{file[50:58]}.tif.xml')\n",
    "    os.rename(f'{outfile}.aux.xml',f'{radardir}/{file[50:58]}.tif.aux.xml')"
   ]
  }
 ],
 "metadata": {
  "kernelspec": {
   "display_name": "insar_analysis",
   "language": "python",
   "name": "python3"
  },
  "language_info": {
   "codemirror_mode": {
    "name": "ipython",
    "version": 3
   },
   "file_extension": ".py",
   "mimetype": "text/x-python",
   "name": "python",
   "nbconvert_exporter": "python",
   "pygments_lexer": "ipython3",
   "version": "3.11.6"
  },
  "vscode": {
   "interpreter": {
    "hash": "70aaa7775d3c66710519d6273a12113d703c06363db8b21a258b24ecf6f245e7"
   }
  }
 },
 "nbformat": 4,
 "nbformat_minor": 5
}
